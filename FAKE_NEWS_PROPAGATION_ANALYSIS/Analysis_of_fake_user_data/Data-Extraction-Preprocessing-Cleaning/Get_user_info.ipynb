{
  "nbformat": 4,
  "nbformat_minor": 0,
  "metadata": {
    "colab": {
      "name": "Copy of Get user info.ipynb",
      "provenance": []
    },
    "kernelspec": {
      "name": "python3",
      "display_name": "Python 3"
    }
  },
  "cells": [
    {
      "cell_type": "code",
      "metadata": {
        "id": "jTj9jjiElHrI",
        "colab": {
          "base_uri": "https://localhost:8080/"
        },
        "outputId": "dd85b3cc-1ed5-4dbc-9226-6499e0789427"
      },
      "source": [
        "import os\n",
        "import tweepy\n",
        "\n",
        "ACCESS_TOKEN = \"\"\n",
        "ACCESS_SECRET = \"\"\n",
        "CONSUMER_KEY = \"\"\n",
        "CONSUMER_SECRET = \"\"\n",
        "\n",
        "# authenticate to the service we're accessing\n",
        "auth = tweepy.OAuthHandler(CONSUMER_KEY, CONSUMER_SECRET)\n",
        "auth.set_access_token(ACCESS_TOKEN, ACCESS_SECRET)\n",
        "# create the connection\n",
        "api = tweepy.API(auth)\n",
        "\n",
        "# define a handle to inspect for quicker reference\n",
        "handle = '5692212'  # for example purposes; prop any handle you want!\n",
        "user = api.get_user(handle)\n",
        "\n",
        "followingCount = user.friends_count\n",
        "followersCount = user.followers_count\n",
        "isVerified = user.verified\n",
        "favouritesCount = user.favourites_count\n",
        "statusCount = user.statuses_count\n",
        "profileCreationTime = user.created_at\n",
        "print(user)\n",
        "print(followingCount)\n",
        "print(followersCount)\n",
        "print(isVerified)\n",
        "print(favouritesCount)\n",
        "print(statusCount)\n",
        "print(profileCreationTime)\n",
        "\n",
        "\n"
      ],
      "execution_count": null,
      "outputs": [
        {
          "output_type": "stream",
          "text": [
            "User(_api=<tweepy.api.API object at 0x7f038e555e48>, _json={'id': 5692212, 'id_str': '5692212', 'name': 'Thomas Poell', 'screen_name': 'tpoell', 'location': 'Amsterdam, The Netherlands', 'profile_location': None, 'description': 'Professor @UvA_Amsterdam + Global Digital Cultures + co-author of The Platform Society | Research on #platformization, #activism, and #culturalproduction', 'url': 'https://t.co/9PiygbdRg4', 'entities': {'url': {'urls': [{'url': 'https://t.co/9PiygbdRg4', 'expanded_url': 'http://www.uva.nl/profiel/p/o/t.poell/t.poell.html', 'display_url': 'uva.nl/profiel/p/o/t.…', 'indices': [0, 23]}]}, 'description': {'urls': []}}, 'protected': False, 'followers_count': 1630, 'friends_count': 1553, 'listed_count': 39, 'created_at': 'Tue May 01 19:21:04 +0000 2007', 'favourites_count': 1368, 'utc_offset': None, 'time_zone': None, 'geo_enabled': True, 'verified': False, 'statuses_count': 521, 'lang': None, 'status': {'created_at': 'Tue Nov 10 14:26:30 +0000 2020', 'id': 1326169367042813953, 'id_str': '1326169367042813953', 'text': \"RT @nielsvdoorn: I'm really looking forward to the International Platform Workers Forum we (Platform Labor) have co-organized with @workeri…\", 'truncated': False, 'entities': {'hashtags': [], 'symbols': [], 'user_mentions': [{'screen_name': 'nielsvdoorn', 'name': 'Niels van Doorn', 'id': 4923437464, 'id_str': '4923437464', 'indices': [3, 15]}], 'urls': []}, 'source': '<a href=\"https://mobile.twitter.com\" rel=\"nofollow\">Twitter Web App</a>', 'in_reply_to_status_id': None, 'in_reply_to_status_id_str': None, 'in_reply_to_user_id': None, 'in_reply_to_user_id_str': None, 'in_reply_to_screen_name': None, 'geo': None, 'coordinates': None, 'place': None, 'contributors': None, 'retweeted_status': {'created_at': 'Tue Nov 10 13:36:08 +0000 2020', 'id': 1326156691277275136, 'id_str': '1326156691277275136', 'text': \"I'm really looking forward to the International Platform Workers Forum we (Platform Labor) have co-organized with… https://t.co/nmbQ7RdV7E\", 'truncated': True, 'entities': {'hashtags': [], 'symbols': [], 'user_mentions': [], 'urls': [{'url': 'https://t.co/nmbQ7RdV7E', 'expanded_url': 'https://twitter.com/i/web/status/1326156691277275136', 'display_url': 'twitter.com/i/web/status/1…', 'indices': [115, 138]}]}, 'source': '<a href=\"https://mobile.twitter.com\" rel=\"nofollow\">Twitter Web App</a>', 'in_reply_to_status_id': None, 'in_reply_to_status_id_str': None, 'in_reply_to_user_id': None, 'in_reply_to_user_id_str': None, 'in_reply_to_screen_name': None, 'geo': None, 'coordinates': None, 'place': None, 'contributors': None, 'is_quote_status': False, 'retweet_count': 20, 'favorite_count': 48, 'favorited': False, 'retweeted': False, 'possibly_sensitive': False, 'lang': 'en'}, 'is_quote_status': False, 'retweet_count': 20, 'favorite_count': 0, 'favorited': False, 'retweeted': False, 'lang': 'en'}, 'contributors_enabled': False, 'is_translator': False, 'is_translation_enabled': False, 'profile_background_color': '9AE4E8', 'profile_background_image_url': 'http://abs.twimg.com/images/themes/theme1/bg.png', 'profile_background_image_url_https': 'https://abs.twimg.com/images/themes/theme1/bg.png', 'profile_background_tile': False, 'profile_image_url': 'http://pbs.twimg.com/profile_images/1280860124987473920/DWFVHJi1_normal.jpg', 'profile_image_url_https': 'https://pbs.twimg.com/profile_images/1280860124987473920/DWFVHJi1_normal.jpg', 'profile_link_color': '0000FF', 'profile_sidebar_border_color': '87BC44', 'profile_sidebar_fill_color': 'E0FF92', 'profile_text_color': '000000', 'profile_use_background_image': True, 'has_extended_profile': False, 'default_profile': False, 'default_profile_image': False, 'following': False, 'follow_request_sent': False, 'notifications': False, 'translator_type': 'none'}, id=5692212, id_str='5692212', name='Thomas Poell', screen_name='tpoell', location='Amsterdam, The Netherlands', profile_location=None, description='Professor @UvA_Amsterdam + Global Digital Cultures + co-author of The Platform Society | Research on #platformization, #activism, and #culturalproduction', url='https://t.co/9PiygbdRg4', entities={'url': {'urls': [{'url': 'https://t.co/9PiygbdRg4', 'expanded_url': 'http://www.uva.nl/profiel/p/o/t.poell/t.poell.html', 'display_url': 'uva.nl/profiel/p/o/t.…', 'indices': [0, 23]}]}, 'description': {'urls': []}}, protected=False, followers_count=1630, friends_count=1553, listed_count=39, created_at=datetime.datetime(2007, 5, 1, 19, 21, 4), favourites_count=1368, utc_offset=None, time_zone=None, geo_enabled=True, verified=False, statuses_count=521, lang=None, status=Status(_api=<tweepy.api.API object at 0x7f038e555e48>, _json={'created_at': 'Tue Nov 10 14:26:30 +0000 2020', 'id': 1326169367042813953, 'id_str': '1326169367042813953', 'text': \"RT @nielsvdoorn: I'm really looking forward to the International Platform Workers Forum we (Platform Labor) have co-organized with @workeri…\", 'truncated': False, 'entities': {'hashtags': [], 'symbols': [], 'user_mentions': [{'screen_name': 'nielsvdoorn', 'name': 'Niels van Doorn', 'id': 4923437464, 'id_str': '4923437464', 'indices': [3, 15]}], 'urls': []}, 'source': '<a href=\"https://mobile.twitter.com\" rel=\"nofollow\">Twitter Web App</a>', 'in_reply_to_status_id': None, 'in_reply_to_status_id_str': None, 'in_reply_to_user_id': None, 'in_reply_to_user_id_str': None, 'in_reply_to_screen_name': None, 'geo': None, 'coordinates': None, 'place': None, 'contributors': None, 'retweeted_status': {'created_at': 'Tue Nov 10 13:36:08 +0000 2020', 'id': 1326156691277275136, 'id_str': '1326156691277275136', 'text': \"I'm really looking forward to the International Platform Workers Forum we (Platform Labor) have co-organized with… https://t.co/nmbQ7RdV7E\", 'truncated': True, 'entities': {'hashtags': [], 'symbols': [], 'user_mentions': [], 'urls': [{'url': 'https://t.co/nmbQ7RdV7E', 'expanded_url': 'https://twitter.com/i/web/status/1326156691277275136', 'display_url': 'twitter.com/i/web/status/1…', 'indices': [115, 138]}]}, 'source': '<a href=\"https://mobile.twitter.com\" rel=\"nofollow\">Twitter Web App</a>', 'in_reply_to_status_id': None, 'in_reply_to_status_id_str': None, 'in_reply_to_user_id': None, 'in_reply_to_user_id_str': None, 'in_reply_to_screen_name': None, 'geo': None, 'coordinates': None, 'place': None, 'contributors': None, 'is_quote_status': False, 'retweet_count': 20, 'favorite_count': 48, 'favorited': False, 'retweeted': False, 'possibly_sensitive': False, 'lang': 'en'}, 'is_quote_status': False, 'retweet_count': 20, 'favorite_count': 0, 'favorited': False, 'retweeted': False, 'lang': 'en'}, created_at=datetime.datetime(2020, 11, 10, 14, 26, 30), id=1326169367042813953, id_str='1326169367042813953', text=\"RT @nielsvdoorn: I'm really looking forward to the International Platform Workers Forum we (Platform Labor) have co-organized with @workeri…\", truncated=False, entities={'hashtags': [], 'symbols': [], 'user_mentions': [{'screen_name': 'nielsvdoorn', 'name': 'Niels van Doorn', 'id': 4923437464, 'id_str': '4923437464', 'indices': [3, 15]}], 'urls': []}, source='Twitter Web App', source_url='https://mobile.twitter.com', in_reply_to_status_id=None, in_reply_to_status_id_str=None, in_reply_to_user_id=None, in_reply_to_user_id_str=None, in_reply_to_screen_name=None, geo=None, coordinates=None, place=None, contributors=None, retweeted_status=Status(_api=<tweepy.api.API object at 0x7f038e555e48>, _json={'created_at': 'Tue Nov 10 13:36:08 +0000 2020', 'id': 1326156691277275136, 'id_str': '1326156691277275136', 'text': \"I'm really looking forward to the International Platform Workers Forum we (Platform Labor) have co-organized with… https://t.co/nmbQ7RdV7E\", 'truncated': True, 'entities': {'hashtags': [], 'symbols': [], 'user_mentions': [], 'urls': [{'url': 'https://t.co/nmbQ7RdV7E', 'expanded_url': 'https://twitter.com/i/web/status/1326156691277275136', 'display_url': 'twitter.com/i/web/status/1…', 'indices': [115, 138]}]}, 'source': '<a href=\"https://mobile.twitter.com\" rel=\"nofollow\">Twitter Web App</a>', 'in_reply_to_status_id': None, 'in_reply_to_status_id_str': None, 'in_reply_to_user_id': None, 'in_reply_to_user_id_str': None, 'in_reply_to_screen_name': None, 'geo': None, 'coordinates': None, 'place': None, 'contributors': None, 'is_quote_status': False, 'retweet_count': 20, 'favorite_count': 48, 'favorited': False, 'retweeted': False, 'possibly_sensitive': False, 'lang': 'en'}, created_at=datetime.datetime(2020, 11, 10, 13, 36, 8), id=1326156691277275136, id_str='1326156691277275136', text=\"I'm really looking forward to the International Platform Workers Forum we (Platform Labor) have co-organized with… https://t.co/nmbQ7RdV7E\", truncated=True, entities={'hashtags': [], 'symbols': [], 'user_mentions': [], 'urls': [{'url': 'https://t.co/nmbQ7RdV7E', 'expanded_url': 'https://twitter.com/i/web/status/1326156691277275136', 'display_url': 'twitter.com/i/web/status/1…', 'indices': [115, 138]}]}, source='Twitter Web App', source_url='https://mobile.twitter.com', in_reply_to_status_id=None, in_reply_to_status_id_str=None, in_reply_to_user_id=None, in_reply_to_user_id_str=None, in_reply_to_screen_name=None, geo=None, coordinates=None, place=None, contributors=None, is_quote_status=False, retweet_count=20, favorite_count=48, favorited=False, retweeted=False, possibly_sensitive=False, lang='en'), is_quote_status=False, retweet_count=20, favorite_count=0, favorited=False, retweeted=False, lang='en'), contributors_enabled=False, is_translator=False, is_translation_enabled=False, profile_background_color='9AE4E8', profile_background_image_url='http://abs.twimg.com/images/themes/theme1/bg.png', profile_background_image_url_https='https://abs.twimg.com/images/themes/theme1/bg.png', profile_background_tile=False, profile_image_url='http://pbs.twimg.com/profile_images/1280860124987473920/DWFVHJi1_normal.jpg', profile_image_url_https='https://pbs.twimg.com/profile_images/1280860124987473920/DWFVHJi1_normal.jpg', profile_link_color='0000FF', profile_sidebar_border_color='87BC44', profile_sidebar_fill_color='E0FF92', profile_text_color='000000', profile_use_background_image=True, has_extended_profile=False, default_profile=False, default_profile_image=False, following=False, follow_request_sent=False, notifications=False, translator_type='none')\n",
            "1553\n",
            "1630\n",
            "False\n",
            "1368\n",
            "521\n",
            "2007-05-01 19:21:04\n"
          ],
          "name": "stdout"
        }
      ]
    },
    {
      "cell_type": "markdown",
      "metadata": {
        "id": "d4HKu8ZRmVkK"
      },
      "source": [
        "1. Iterate thrugh each and every row of df\n",
        "2. Take the follower id\n",
        "3. Put that follower id in the api and get the user json\n",
        "4. If user.folower_count df [follower_followercount] =value\n",
        "5. scores=> source + target => spark community dtection\n",
        "6. Neo4j visualizatin => use foillowers scoring to rank the follower and take the top 5% of followers.\n"
      ]
    },
    {
      "cell_type": "code",
      "metadata": {
        "id": "UJFZhwpCdIxz"
      },
      "source": [
        "import pandas as pd\n",
        "import numpy as np"
      ],
      "execution_count": null,
      "outputs": []
    },
    {
      "cell_type": "code",
      "metadata": {
        "id": "O_f0HvsOfYsE"
      },
      "source": [
        "import os\n",
        "import tweepy\n",
        "\n",
        "ACCESS_TOKEN = \"\"\n",
        "ACCESS_SECRET = \"\"\n",
        "CONSUMER_KEY = \"\"\n",
        "CONSUMER_SECRET = \"\""
      ],
      "execution_count": null,
      "outputs": []
    },
    {
      "cell_type": "code",
      "metadata": {
        "id": "5PPnLvgIfeBZ"
      },
      "source": [
        "def getFollowerInfo(follower_id):\n",
        "  # authenticate to the service we're accessing\n",
        "  auth = tweepy.OAuthHandler(CONSUMER_KEY, CONSUMER_SECRET)\n",
        "  auth.set_access_token(ACCESS_TOKEN, ACCESS_SECRET)\n",
        "  # create the connection\n",
        "  api = tweepy.API(auth)\n",
        "\n",
        "  # define a handle to inspect for quicker reference\n",
        "  follower_id = str(int(follower_id))\n",
        "  handle = follower_id  # for example purposes; prop any handle you want!\n",
        "  user = api.get_user(handle)\n",
        "\n",
        "  return user"
      ],
      "execution_count": null,
      "outputs": []
    },
    {
      "cell_type": "code",
      "metadata": {
        "id": "9VHn27xaMV4l",
        "colab": {
          "base_uri": "https://localhost:8080/"
        },
        "outputId": "7387a8af-5c79-494b-886a-d8169c2effdc"
      },
      "source": [
        "from google.colab import drive\n",
        "drive.mount(\"/content/drive\") "
      ],
      "execution_count": null,
      "outputs": [
        {
          "output_type": "stream",
          "text": [
            "Drive already mounted at /content/drive; to attempt to forcibly remount, call drive.mount(\"/content/drive\", force_remount=True).\n"
          ],
          "name": "stdout"
        }
      ]
    },
    {
      "cell_type": "code",
      "metadata": {
        "id": "ERwo2d8sdMLi"
      },
      "source": [
        "df = pd.read_csv('/content/drive/MyDrive/Twitter-Dataset-Analysis/295B/Nov09/user-follower-weighted_300_Nov11.csv')"
      ],
      "execution_count": null,
      "outputs": []
    },
    {
      "cell_type": "code",
      "metadata": {
        "id": "dS9xp2u-d-W4"
      },
      "source": [
        "df\n",
        "base_df = df[400000:500000]"
      ],
      "execution_count": null,
      "outputs": []
    },
    {
      "cell_type": "code",
      "metadata": {
        "id": "2erLZ963eVX9",
        "colab": {
          "base_uri": "https://localhost:8080/",
          "height": 419
        },
        "outputId": "c92028ea-ee50-49b4-e6d6-e88b2220501c"
      },
      "source": [
        "base_df"
      ],
      "execution_count": null,
      "outputs": [
        {
          "output_type": "execute_result",
          "data": {
            "text/html": [
              "<div>\n",
              "<style scoped>\n",
              "    .dataframe tbody tr th:only-of-type {\n",
              "        vertical-align: middle;\n",
              "    }\n",
              "\n",
              "    .dataframe tbody tr th {\n",
              "        vertical-align: top;\n",
              "    }\n",
              "\n",
              "    .dataframe thead th {\n",
              "        text-align: right;\n",
              "    }\n",
              "</style>\n",
              "<table border=\"1\" class=\"dataframe\">\n",
              "  <thead>\n",
              "    <tr style=\"text-align: right;\">\n",
              "      <th></th>\n",
              "      <th>user_id</th>\n",
              "      <th>weights</th>\n",
              "      <th>followers</th>\n",
              "    </tr>\n",
              "  </thead>\n",
              "  <tbody>\n",
              "    <tr>\n",
              "      <th>400000</th>\n",
              "      <td>27003847.0</td>\n",
              "      <td>0.70</td>\n",
              "      <td>1.121518e+18</td>\n",
              "    </tr>\n",
              "    <tr>\n",
              "      <th>400001</th>\n",
              "      <td>27003847.0</td>\n",
              "      <td>0.70</td>\n",
              "      <td>1.274684e+18</td>\n",
              "    </tr>\n",
              "    <tr>\n",
              "      <th>400002</th>\n",
              "      <td>27003847.0</td>\n",
              "      <td>0.70</td>\n",
              "      <td>8.632133e+17</td>\n",
              "    </tr>\n",
              "    <tr>\n",
              "      <th>400003</th>\n",
              "      <td>27003847.0</td>\n",
              "      <td>0.70</td>\n",
              "      <td>7.606943e+17</td>\n",
              "    </tr>\n",
              "    <tr>\n",
              "      <th>400004</th>\n",
              "      <td>27003847.0</td>\n",
              "      <td>0.70</td>\n",
              "      <td>1.273312e+18</td>\n",
              "    </tr>\n",
              "    <tr>\n",
              "      <th>...</th>\n",
              "      <td>...</td>\n",
              "      <td>...</td>\n",
              "      <td>...</td>\n",
              "    </tr>\n",
              "    <tr>\n",
              "      <th>499995</th>\n",
              "      <td>38550286.0</td>\n",
              "      <td>0.95</td>\n",
              "      <td>8.998577e+17</td>\n",
              "    </tr>\n",
              "    <tr>\n",
              "      <th>499996</th>\n",
              "      <td>38550286.0</td>\n",
              "      <td>0.95</td>\n",
              "      <td>1.890268e+07</td>\n",
              "    </tr>\n",
              "    <tr>\n",
              "      <th>499997</th>\n",
              "      <td>38550286.0</td>\n",
              "      <td>0.95</td>\n",
              "      <td>4.637612e+07</td>\n",
              "    </tr>\n",
              "    <tr>\n",
              "      <th>499998</th>\n",
              "      <td>38550286.0</td>\n",
              "      <td>0.95</td>\n",
              "      <td>2.610592e+09</td>\n",
              "    </tr>\n",
              "    <tr>\n",
              "      <th>499999</th>\n",
              "      <td>38550286.0</td>\n",
              "      <td>0.95</td>\n",
              "      <td>1.045386e+18</td>\n",
              "    </tr>\n",
              "  </tbody>\n",
              "</table>\n",
              "<p>100000 rows × 3 columns</p>\n",
              "</div>"
            ],
            "text/plain": [
              "           user_id  weights     followers\n",
              "400000  27003847.0     0.70  1.121518e+18\n",
              "400001  27003847.0     0.70  1.274684e+18\n",
              "400002  27003847.0     0.70  8.632133e+17\n",
              "400003  27003847.0     0.70  7.606943e+17\n",
              "400004  27003847.0     0.70  1.273312e+18\n",
              "...            ...      ...           ...\n",
              "499995  38550286.0     0.95  8.998577e+17\n",
              "499996  38550286.0     0.95  1.890268e+07\n",
              "499997  38550286.0     0.95  4.637612e+07\n",
              "499998  38550286.0     0.95  2.610592e+09\n",
              "499999  38550286.0     0.95  1.045386e+18\n",
              "\n",
              "[100000 rows x 3 columns]"
            ]
          },
          "metadata": {
            "tags": []
          },
          "execution_count": 17
        }
      ]
    },
    {
      "cell_type": "code",
      "metadata": {
        "id": "BZ63jk8Nc9yf"
      },
      "source": [
        "def getFollowerProfile(df):\n",
        "  follower_id = df['followers']\n",
        "  try:\n",
        "    user = getFollowerInfo(follower_id)\n",
        "    followingCount = user.friends_count\n",
        "    followersCount = user.followers_count\n",
        "    isVerified = user.verified\n",
        "    favouritesCount = user.favourites_count\n",
        "    statusCount = user.statuses_count\n",
        "    profileCreationTime = user.created_at\n",
        "\n",
        "  except tweepy.error.TweepError:\n",
        "    followingCount = 0\n",
        "    followersCount = 0\n",
        "    isVerified = False\n",
        "    favouritesCount = 0\n",
        "    statusCount = 0\n",
        "    profileCreationTime = np.NaN\n",
        "    \n",
        "  df['foll_following'] = followingCount\n",
        "  df['foll_follower'] = followersCount\n",
        "  df['foll_isVerified'] = isVerified\n",
        "  df['foll_favouritesCount'] = favouritesCount\n",
        "  df['foll_statusCount'] = statusCount\n",
        "  df['foll_profileTime'] = profileCreationTime\n",
        "  return df"
      ],
      "execution_count": null,
      "outputs": []
    },
    {
      "cell_type": "code",
      "metadata": {
        "id": "Dt4-8_8OGtbu",
        "colab": {
          "base_uri": "https://localhost:8080/",
          "height": 419
        },
        "outputId": "54b05980-41d6-4023-f7a8-5957e615c61f"
      },
      "source": [
        "complete_df = base_df.apply(getFollowerProfile,axis=1)\n",
        "complete_df"
      ],
      "execution_count": null,
      "outputs": [
        {
          "output_type": "execute_result",
          "data": {
            "text/html": [
              "<div>\n",
              "<style scoped>\n",
              "    .dataframe tbody tr th:only-of-type {\n",
              "        vertical-align: middle;\n",
              "    }\n",
              "\n",
              "    .dataframe tbody tr th {\n",
              "        vertical-align: top;\n",
              "    }\n",
              "\n",
              "    .dataframe thead th {\n",
              "        text-align: right;\n",
              "    }\n",
              "</style>\n",
              "<table border=\"1\" class=\"dataframe\">\n",
              "  <thead>\n",
              "    <tr style=\"text-align: right;\">\n",
              "      <th></th>\n",
              "      <th>user_id</th>\n",
              "      <th>weights</th>\n",
              "      <th>followers</th>\n",
              "      <th>foll_following</th>\n",
              "      <th>foll_follower</th>\n",
              "      <th>foll_isVerified</th>\n",
              "      <th>foll_favouritesCount</th>\n",
              "      <th>foll_statusCount</th>\n",
              "      <th>foll_profileTime</th>\n",
              "    </tr>\n",
              "  </thead>\n",
              "  <tbody>\n",
              "    <tr>\n",
              "      <th>400000</th>\n",
              "      <td>27003847.0</td>\n",
              "      <td>0.70</td>\n",
              "      <td>1.121518e+18</td>\n",
              "      <td>0.0</td>\n",
              "      <td>0.0</td>\n",
              "      <td>0.0</td>\n",
              "      <td>0.0</td>\n",
              "      <td>0.0</td>\n",
              "      <td>NaT</td>\n",
              "    </tr>\n",
              "    <tr>\n",
              "      <th>400001</th>\n",
              "      <td>27003847.0</td>\n",
              "      <td>0.70</td>\n",
              "      <td>1.274684e+18</td>\n",
              "      <td>0.0</td>\n",
              "      <td>0.0</td>\n",
              "      <td>0.0</td>\n",
              "      <td>0.0</td>\n",
              "      <td>0.0</td>\n",
              "      <td>NaT</td>\n",
              "    </tr>\n",
              "    <tr>\n",
              "      <th>400002</th>\n",
              "      <td>27003847.0</td>\n",
              "      <td>0.70</td>\n",
              "      <td>8.632133e+17</td>\n",
              "      <td>6650.0</td>\n",
              "      <td>6133.0</td>\n",
              "      <td>0.0</td>\n",
              "      <td>9295.0</td>\n",
              "      <td>24114.0</td>\n",
              "      <td>2017-05-13 02:04:20</td>\n",
              "    </tr>\n",
              "    <tr>\n",
              "      <th>400003</th>\n",
              "      <td>27003847.0</td>\n",
              "      <td>0.70</td>\n",
              "      <td>7.606943e+17</td>\n",
              "      <td>16403.0</td>\n",
              "      <td>15686.0</td>\n",
              "      <td>0.0</td>\n",
              "      <td>197629.0</td>\n",
              "      <td>192867.0</td>\n",
              "      <td>2016-08-03 04:30:37</td>\n",
              "    </tr>\n",
              "    <tr>\n",
              "      <th>400004</th>\n",
              "      <td>27003847.0</td>\n",
              "      <td>0.70</td>\n",
              "      <td>1.273312e+18</td>\n",
              "      <td>0.0</td>\n",
              "      <td>0.0</td>\n",
              "      <td>0.0</td>\n",
              "      <td>0.0</td>\n",
              "      <td>0.0</td>\n",
              "      <td>NaT</td>\n",
              "    </tr>\n",
              "    <tr>\n",
              "      <th>...</th>\n",
              "      <td>...</td>\n",
              "      <td>...</td>\n",
              "      <td>...</td>\n",
              "      <td>...</td>\n",
              "      <td>...</td>\n",
              "      <td>...</td>\n",
              "      <td>...</td>\n",
              "      <td>...</td>\n",
              "      <td>...</td>\n",
              "    </tr>\n",
              "    <tr>\n",
              "      <th>499995</th>\n",
              "      <td>38550286.0</td>\n",
              "      <td>0.95</td>\n",
              "      <td>8.998577e+17</td>\n",
              "      <td>0.0</td>\n",
              "      <td>0.0</td>\n",
              "      <td>0.0</td>\n",
              "      <td>0.0</td>\n",
              "      <td>0.0</td>\n",
              "      <td>NaT</td>\n",
              "    </tr>\n",
              "    <tr>\n",
              "      <th>499996</th>\n",
              "      <td>38550286.0</td>\n",
              "      <td>0.95</td>\n",
              "      <td>1.890268e+07</td>\n",
              "      <td>0.0</td>\n",
              "      <td>0.0</td>\n",
              "      <td>0.0</td>\n",
              "      <td>0.0</td>\n",
              "      <td>0.0</td>\n",
              "      <td>NaT</td>\n",
              "    </tr>\n",
              "    <tr>\n",
              "      <th>499997</th>\n",
              "      <td>38550286.0</td>\n",
              "      <td>0.95</td>\n",
              "      <td>4.637612e+07</td>\n",
              "      <td>0.0</td>\n",
              "      <td>0.0</td>\n",
              "      <td>0.0</td>\n",
              "      <td>0.0</td>\n",
              "      <td>0.0</td>\n",
              "      <td>NaT</td>\n",
              "    </tr>\n",
              "    <tr>\n",
              "      <th>499998</th>\n",
              "      <td>38550286.0</td>\n",
              "      <td>0.95</td>\n",
              "      <td>2.610592e+09</td>\n",
              "      <td>0.0</td>\n",
              "      <td>0.0</td>\n",
              "      <td>0.0</td>\n",
              "      <td>0.0</td>\n",
              "      <td>0.0</td>\n",
              "      <td>NaT</td>\n",
              "    </tr>\n",
              "    <tr>\n",
              "      <th>499999</th>\n",
              "      <td>38550286.0</td>\n",
              "      <td>0.95</td>\n",
              "      <td>1.045386e+18</td>\n",
              "      <td>0.0</td>\n",
              "      <td>0.0</td>\n",
              "      <td>0.0</td>\n",
              "      <td>0.0</td>\n",
              "      <td>0.0</td>\n",
              "      <td>NaT</td>\n",
              "    </tr>\n",
              "  </tbody>\n",
              "</table>\n",
              "<p>100000 rows × 9 columns</p>\n",
              "</div>"
            ],
            "text/plain": [
              "           user_id  weights  ...  foll_statusCount    foll_profileTime\n",
              "400000  27003847.0     0.70  ...               0.0                 NaT\n",
              "400001  27003847.0     0.70  ...               0.0                 NaT\n",
              "400002  27003847.0     0.70  ...           24114.0 2017-05-13 02:04:20\n",
              "400003  27003847.0     0.70  ...          192867.0 2016-08-03 04:30:37\n",
              "400004  27003847.0     0.70  ...               0.0                 NaT\n",
              "...            ...      ...  ...               ...                 ...\n",
              "499995  38550286.0     0.95  ...               0.0                 NaT\n",
              "499996  38550286.0     0.95  ...               0.0                 NaT\n",
              "499997  38550286.0     0.95  ...               0.0                 NaT\n",
              "499998  38550286.0     0.95  ...               0.0                 NaT\n",
              "499999  38550286.0     0.95  ...               0.0                 NaT\n",
              "\n",
              "[100000 rows x 9 columns]"
            ]
          },
          "metadata": {
            "tags": []
          },
          "execution_count": 19
        }
      ]
    },
    {
      "cell_type": "code",
      "metadata": {
        "id": "Fh4KNMUxoNjt"
      },
      "source": [
        "complete_df.to_csv('/content/drive/MyDrive/Twitter-Dataset-Analysis/295B/Nov09/followers_profile_Abhinav_4_Nov16.csv',index=False)"
      ],
      "execution_count": null,
      "outputs": []
    }
  ]
}